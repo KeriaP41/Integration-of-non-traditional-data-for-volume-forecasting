{
 "cells": [
  {
   "cell_type": "code",
   "execution_count": 1,
   "id": "ec407486",
   "metadata": {},
   "outputs": [],
   "source": [
    "import pandas as pd\n",
    "import numpy as np"
   ]
  },
  {
   "cell_type": "code",
   "execution_count": 2,
   "id": "5da3803c",
   "metadata": {},
   "outputs": [],
   "source": [
    "#读取数据"
   ]
  },
  {
   "cell_type": "code",
   "execution_count": 3,
   "id": "b10bb42c",
   "metadata": {},
   "outputs": [],
   "source": [
    "sales_df=pd.read_csv(\"pred_retail_count.csv\")"
   ]
  },
  {
   "cell_type": "code",
   "execution_count": 17,
   "id": "bebea13a",
   "metadata": {},
   "outputs": [],
   "source": [
    "sales_df=sales_df.drop(columns=[\"brand_id\"])"
   ]
  },
  {
   "cell_type": "code",
   "execution_count": 18,
   "id": "cf3aadea",
   "metadata": {},
   "outputs": [
    {
     "data": {
      "text/html": [
       "<div>\n",
       "<style scoped>\n",
       "    .dataframe tbody tr th:only-of-type {\n",
       "        vertical-align: middle;\n",
       "    }\n",
       "\n",
       "    .dataframe tbody tr th {\n",
       "        vertical-align: top;\n",
       "    }\n",
       "\n",
       "    .dataframe thead th {\n",
       "        text-align: right;\n",
       "    }\n",
       "</style>\n",
       "<table border=\"1\" class=\"dataframe\">\n",
       "  <thead>\n",
       "    <tr style=\"text-align: right;\">\n",
       "      <th></th>\n",
       "      <th>month</th>\n",
       "      <th>store_id</th>\n",
       "      <th>staff_id</th>\n",
       "      <th>retail_count</th>\n",
       "      <th>adcode</th>\n",
       "      <th>division_id</th>\n",
       "      <th>category_id</th>\n",
       "      <th>prod_type_id</th>\n",
       "      <th>gender_id</th>\n",
       "      <th>sub_division_id</th>\n",
       "      <th>quarter_id</th>\n",
       "      <th>material_id</th>\n",
       "      <th>price_range_id</th>\n",
       "      <th>pricelist</th>\n",
       "    </tr>\n",
       "  </thead>\n",
       "  <tbody>\n",
       "    <tr>\n",
       "      <th>0</th>\n",
       "      <td>1</td>\n",
       "      <td>1</td>\n",
       "      <td>164</td>\n",
       "      <td>6</td>\n",
       "      <td>140100.0</td>\n",
       "      <td>86.0</td>\n",
       "      <td>51.0</td>\n",
       "      <td>145.0</td>\n",
       "      <td>4.0</td>\n",
       "      <td>90.0</td>\n",
       "      <td>5.0</td>\n",
       "      <td>136.0</td>\n",
       "      <td>6.0</td>\n",
       "      <td>279.0</td>\n",
       "    </tr>\n",
       "    <tr>\n",
       "      <th>1</th>\n",
       "      <td>1</td>\n",
       "      <td>1</td>\n",
       "      <td>198</td>\n",
       "      <td>1</td>\n",
       "      <td>140100.0</td>\n",
       "      <td>205.0</td>\n",
       "      <td>109.0</td>\n",
       "      <td>206.0</td>\n",
       "      <td>2518.0</td>\n",
       "      <td>1480.0</td>\n",
       "      <td>5.0</td>\n",
       "      <td>215.0</td>\n",
       "      <td>6.0</td>\n",
       "      <td>209.0</td>\n",
       "    </tr>\n",
       "    <tr>\n",
       "      <th>2</th>\n",
       "      <td>1</td>\n",
       "      <td>1</td>\n",
       "      <td>1426</td>\n",
       "      <td>2</td>\n",
       "      <td>140100.0</td>\n",
       "      <td>2.0</td>\n",
       "      <td>51.0</td>\n",
       "      <td>24.0</td>\n",
       "      <td>4.0</td>\n",
       "      <td>1479.0</td>\n",
       "      <td>749.0</td>\n",
       "      <td>779.0</td>\n",
       "      <td>31.0</td>\n",
       "      <td>399.0</td>\n",
       "    </tr>\n",
       "    <tr>\n",
       "      <th>3</th>\n",
       "      <td>1</td>\n",
       "      <td>1</td>\n",
       "      <td>1436</td>\n",
       "      <td>5</td>\n",
       "      <td>140100.0</td>\n",
       "      <td>2.0</td>\n",
       "      <td>61.0</td>\n",
       "      <td>57.0</td>\n",
       "      <td>4.0</td>\n",
       "      <td>1479.0</td>\n",
       "      <td>749.0</td>\n",
       "      <td>755.0</td>\n",
       "      <td>31.0</td>\n",
       "      <td>359.0</td>\n",
       "    </tr>\n",
       "    <tr>\n",
       "      <th>4</th>\n",
       "      <td>1</td>\n",
       "      <td>1</td>\n",
       "      <td>1498</td>\n",
       "      <td>1</td>\n",
       "      <td>140100.0</td>\n",
       "      <td>86.0</td>\n",
       "      <td>121.0</td>\n",
       "      <td>87.0</td>\n",
       "      <td>29.0</td>\n",
       "      <td>90.0</td>\n",
       "      <td>749.0</td>\n",
       "      <td>799.0</td>\n",
       "      <td>91.0</td>\n",
       "      <td>139.0</td>\n",
       "    </tr>\n",
       "  </tbody>\n",
       "</table>\n",
       "</div>"
      ],
      "text/plain": [
       "   month  store_id  staff_id  retail_count    adcode  division_id  \\\n",
       "0      1         1       164             6  140100.0         86.0   \n",
       "1      1         1       198             1  140100.0        205.0   \n",
       "2      1         1      1426             2  140100.0          2.0   \n",
       "3      1         1      1436             5  140100.0          2.0   \n",
       "4      1         1      1498             1  140100.0         86.0   \n",
       "\n",
       "   category_id  prod_type_id  gender_id  sub_division_id  quarter_id  \\\n",
       "0         51.0         145.0        4.0             90.0         5.0   \n",
       "1        109.0         206.0     2518.0           1480.0         5.0   \n",
       "2         51.0          24.0        4.0           1479.0       749.0   \n",
       "3         61.0          57.0        4.0           1479.0       749.0   \n",
       "4        121.0          87.0       29.0             90.0       749.0   \n",
       "\n",
       "   material_id  price_range_id  pricelist  \n",
       "0        136.0             6.0      279.0  \n",
       "1        215.0             6.0      209.0  \n",
       "2        779.0            31.0      399.0  \n",
       "3        755.0            31.0      359.0  \n",
       "4        799.0            91.0      139.0  "
      ]
     },
     "execution_count": 18,
     "metadata": {},
     "output_type": "execute_result"
    }
   ],
   "source": [
    "sales_df.head()"
   ]
  },
  {
   "cell_type": "code",
   "execution_count": 19,
   "id": "28de5407",
   "metadata": {},
   "outputs": [],
   "source": [
    "col=sales_df.columns"
   ]
  },
  {
   "cell_type": "code",
   "execution_count": 20,
   "id": "5915955c",
   "metadata": {},
   "outputs": [],
   "source": [
    "label=\"retail_count\"\n",
    "model_features=[i for i in col if i !=label]"
   ]
  },
  {
   "cell_type": "code",
   "execution_count": 21,
   "id": "a83c143f",
   "metadata": {},
   "outputs": [],
   "source": [
    "feature_data=sales_df[model_features].copy()\n",
    "label_data=sales_df[label].copy()\n",
    "data_all=pd.concat([feature_data,label_data],axis=1)"
   ]
  },
  {
   "cell_type": "code",
   "execution_count": 22,
   "id": "d274c87f",
   "metadata": {},
   "outputs": [
    {
     "data": {
      "text/html": [
       "<div>\n",
       "<style scoped>\n",
       "    .dataframe tbody tr th:only-of-type {\n",
       "        vertical-align: middle;\n",
       "    }\n",
       "\n",
       "    .dataframe tbody tr th {\n",
       "        vertical-align: top;\n",
       "    }\n",
       "\n",
       "    .dataframe thead th {\n",
       "        text-align: right;\n",
       "    }\n",
       "</style>\n",
       "<table border=\"1\" class=\"dataframe\">\n",
       "  <thead>\n",
       "    <tr style=\"text-align: right;\">\n",
       "      <th></th>\n",
       "      <th>month</th>\n",
       "      <th>store_id</th>\n",
       "      <th>staff_id</th>\n",
       "      <th>adcode</th>\n",
       "      <th>division_id</th>\n",
       "      <th>category_id</th>\n",
       "      <th>prod_type_id</th>\n",
       "      <th>gender_id</th>\n",
       "      <th>sub_division_id</th>\n",
       "      <th>quarter_id</th>\n",
       "      <th>material_id</th>\n",
       "      <th>price_range_id</th>\n",
       "      <th>pricelist</th>\n",
       "      <th>retail_count</th>\n",
       "    </tr>\n",
       "  </thead>\n",
       "  <tbody>\n",
       "    <tr>\n",
       "      <th>0</th>\n",
       "      <td>1</td>\n",
       "      <td>1</td>\n",
       "      <td>164</td>\n",
       "      <td>140100.0</td>\n",
       "      <td>86.0</td>\n",
       "      <td>51.0</td>\n",
       "      <td>145.0</td>\n",
       "      <td>4.0</td>\n",
       "      <td>90.0</td>\n",
       "      <td>5.0</td>\n",
       "      <td>136.0</td>\n",
       "      <td>6.0</td>\n",
       "      <td>279.0</td>\n",
       "      <td>6</td>\n",
       "    </tr>\n",
       "    <tr>\n",
       "      <th>1</th>\n",
       "      <td>1</td>\n",
       "      <td>1</td>\n",
       "      <td>198</td>\n",
       "      <td>140100.0</td>\n",
       "      <td>205.0</td>\n",
       "      <td>109.0</td>\n",
       "      <td>206.0</td>\n",
       "      <td>2518.0</td>\n",
       "      <td>1480.0</td>\n",
       "      <td>5.0</td>\n",
       "      <td>215.0</td>\n",
       "      <td>6.0</td>\n",
       "      <td>209.0</td>\n",
       "      <td>1</td>\n",
       "    </tr>\n",
       "    <tr>\n",
       "      <th>2</th>\n",
       "      <td>1</td>\n",
       "      <td>1</td>\n",
       "      <td>1426</td>\n",
       "      <td>140100.0</td>\n",
       "      <td>2.0</td>\n",
       "      <td>51.0</td>\n",
       "      <td>24.0</td>\n",
       "      <td>4.0</td>\n",
       "      <td>1479.0</td>\n",
       "      <td>749.0</td>\n",
       "      <td>779.0</td>\n",
       "      <td>31.0</td>\n",
       "      <td>399.0</td>\n",
       "      <td>2</td>\n",
       "    </tr>\n",
       "    <tr>\n",
       "      <th>3</th>\n",
       "      <td>1</td>\n",
       "      <td>1</td>\n",
       "      <td>1436</td>\n",
       "      <td>140100.0</td>\n",
       "      <td>2.0</td>\n",
       "      <td>61.0</td>\n",
       "      <td>57.0</td>\n",
       "      <td>4.0</td>\n",
       "      <td>1479.0</td>\n",
       "      <td>749.0</td>\n",
       "      <td>755.0</td>\n",
       "      <td>31.0</td>\n",
       "      <td>359.0</td>\n",
       "      <td>5</td>\n",
       "    </tr>\n",
       "    <tr>\n",
       "      <th>4</th>\n",
       "      <td>1</td>\n",
       "      <td>1</td>\n",
       "      <td>1498</td>\n",
       "      <td>140100.0</td>\n",
       "      <td>86.0</td>\n",
       "      <td>121.0</td>\n",
       "      <td>87.0</td>\n",
       "      <td>29.0</td>\n",
       "      <td>90.0</td>\n",
       "      <td>749.0</td>\n",
       "      <td>799.0</td>\n",
       "      <td>91.0</td>\n",
       "      <td>139.0</td>\n",
       "      <td>1</td>\n",
       "    </tr>\n",
       "  </tbody>\n",
       "</table>\n",
       "</div>"
      ],
      "text/plain": [
       "   month  store_id  staff_id    adcode  division_id  category_id  \\\n",
       "0      1         1       164  140100.0         86.0         51.0   \n",
       "1      1         1       198  140100.0        205.0        109.0   \n",
       "2      1         1      1426  140100.0          2.0         51.0   \n",
       "3      1         1      1436  140100.0          2.0         61.0   \n",
       "4      1         1      1498  140100.0         86.0        121.0   \n",
       "\n",
       "   prod_type_id  gender_id  sub_division_id  quarter_id  material_id  \\\n",
       "0         145.0        4.0             90.0         5.0        136.0   \n",
       "1         206.0     2518.0           1480.0         5.0        215.0   \n",
       "2          24.0        4.0           1479.0       749.0        779.0   \n",
       "3          57.0        4.0           1479.0       749.0        755.0   \n",
       "4          87.0       29.0             90.0       749.0        799.0   \n",
       "\n",
       "   price_range_id  pricelist  retail_count  \n",
       "0             6.0      279.0             6  \n",
       "1             6.0      209.0             1  \n",
       "2            31.0      399.0             2  \n",
       "3            31.0      359.0             5  \n",
       "4            91.0      139.0             1  "
      ]
     },
     "execution_count": 22,
     "metadata": {},
     "output_type": "execute_result"
    }
   ],
   "source": [
    "data_all.head()"
   ]
  },
  {
   "cell_type": "code",
   "execution_count": 24,
   "id": "b4768ce5",
   "metadata": {},
   "outputs": [
    {
     "data": {
      "image/png": "[encoded data removed]",
      "text/plain": [
       "<Figure size 432x288 with 1 Axes>"
      ]
     },
     "metadata": {
      "needs_background": "light"
     },
     "output_type": "display_data"
    }
   ],
   "source": [
    "import matplotlib.pyplot as plt\n",
    "\n",
    "# 计算每个月份的总销售量\n",
    "monthly_sales = data_all.groupby('month')['retail_count'].sum()\n",
    "\n",
    "# 绘制柱形图\n",
    "plt.bar(monthly_sales.index, monthly_sales.values)\n",
    "plt.xlabel('Month')\n",
    "plt.ylabel('Sales')\n",
    "plt.title('Total sales by month')\n",
    "plt.show()"
   ]
  },
  {
   "cell_type": "code",
   "execution_count": 25,
   "id": "c6a4a3e2",
   "metadata": {},
   "outputs": [
    {
     "data": {
      "image/png": "[encoded data removed]",
      "text/plain": [
       "<Figure size 432x288 with 1 Axes>"
      ]
     },
     "metadata": {
      "needs_background": "light"
     },
     "output_type": "display_data"
    }
   ],
   "source": [
    "# 计算不同类别商品的销售量\n",
    "category_sales = data_all.groupby('category_id')['retail_count'].sum()\n",
    "\n",
    "# 绘制折线图\n",
    "plt.plot(category_sales.index, category_sales.values)\n",
    "plt.xlabel('Category')\n",
    "plt.ylabel('Sales')\n",
    "plt.title('Total sales by category')\n",
    "plt.show()"
   ]
  },
  {
   "cell_type": "code",
   "execution_count": 26,
   "id": "758ddde2",
   "metadata": {},
   "outputs": [
    {
     "data": {
      "image/png": "[encoded data removed]",
      "text/plain": [
       "<Figure size 432x288 with 1 Axes>"
      ]
     },
     "metadata": {
      "needs_background": "light"
     },
     "output_type": "display_data"
    }
   ],
   "source": [
    "# 每个店铺的销售量和广告投入之间的关系\n",
    "store_sales = data_all.groupby('store_id')['retail_count'].sum()\n",
    "store_adcost = data_all.groupby('store_id')['pricelist'].mean()\n",
    "\n",
    "# 绘制散点图\n",
    "plt.scatter(store_adcost, store_sales)\n",
    "plt.xlabel('Ad Cost')\n",
    "plt.ylabel('Sales')\n",
    "plt.title('Sales vs Ad Cost by store')\n",
    "plt.show()"
   ]
  },
  {
   "cell_type": "code",
   "execution_count": 33,
   "id": "ecc92ae4",
   "metadata": {},
   "outputs": [
    {
     "name": "stderr",
     "output_type": "stream",
     "text": [
      "C:\\Users\\Administrator\\AppData\\Local\\Temp\\ipykernel_628\\2426815006.py:5: FutureWarning: The behavior of `series[i:j]` with an integer-dtype index is deprecated. In a future version, this will be treated as *label-based* indexing, consistent with e.g. `series[i]` lookups. To retain the old behavior, use `series.iloc[i:j]`. To get the future behavior, use `series.loc[i:j]`.\n",
      "  plt.boxplot(store_sales[:20])\n"
     ]
    },
    {
     "data": {
      "image/png": "[encoded data removed]",
      "text/plain": [
       "<Figure size 432x288 with 1 Axes>"
      ]
     },
     "metadata": {},
     "output_type": "display_data"
    }
   ],
   "source": [
    "# 不同店铺的销售量分布情况\n",
    "store_sales = data_all.groupby('store_id')['retail_count'].apply(list)\n",
    "\n",
    "# 绘制箱线图\n",
    "plt.boxplot(store_sales[:20])\n",
    "plt.xlabel('Store')\n",
    "plt.ylabel('Sales')\n",
    "plt.title('Sales distribution by store')\n",
    "plt.show()"
   ]
  },
  {
   "cell_type": "code",
   "execution_count": 28,
   "id": "140de8ee",
   "metadata": {},
   "outputs": [
    {
     "data": {
      "image/png": "[encoded data removed]",
      "text/plain": [
       "<Figure size 1440x1440 with 2 Axes>"
      ]
     },
     "metadata": {
      "needs_background": "light"
     },
     "output_type": "display_data"
    }
   ],
   "source": [
    "import matplotlib.pyplot as plt\n",
    "import seaborn as sns\n",
    "\n",
    "# 计算不同属性之间的相关系数\n",
    "corr_matrix = data_all.corr()\n",
    "\n",
    "# 设置画布大小\n",
    "plt.figure(figsize=(20, 20))\n",
    "\n",
    "# 绘制热力图\n",
    "sns.heatmap(corr_matrix, cmap='coolwarm', annot=True)\n",
    "plt.title('Correlation matrix')\n",
    "plt.show()"
   ]
  },
  {
   "cell_type": "code",
   "execution_count": null,
   "id": "ecba04a7",
   "metadata": {},
   "outputs": [],
   "source": [
    "### \n",
    "#在这个数据集中，大部分属性之间的相关系数都比较小，都在±0.3以下，说明它们之间的相关性比较弱。\n",
    "\n",
    "# staff_id、quarter_id和pricelist与销售量之间的相关系数比较高，分别为0.784和0.439。其中，staff_id代表商品材质，quarter_id代表季度编号，pricelist代表价格列表，这些属性符合常识，\n",
    "# 随着季度的变化，衣服材质也在季度性变化，并可能与销售量存在一定的关联。\n",
    "\n",
    "#gender_id和sub_division_id与销售量之间的相关系数比较小，分别为-0.025和0.082，说明它们对销售量的影响比较弱。\n",
    "\n",
    "#在其他属性中，可能存在一些隐含的相关性，例如division_id和sub_division_id、prod_type_id和category_id等，但是这些相关性的强度较弱，需要进一步的探索和验证。"
   ]
  },
  {
   "cell_type": "code",
   "execution_count": 34,
   "id": "cb283e8a",
   "metadata": {},
   "outputs": [],
   "source": [
    "#开始建模，对数据划分训练集和测试集"
   ]
  },
  {
   "cell_type": "code",
   "execution_count": 35,
   "id": "d237a14a",
   "metadata": {},
   "outputs": [
    {
     "data": {
      "text/html": [
       "<div>\n",
       "<style scoped>\n",
       "    .dataframe tbody tr th:only-of-type {\n",
       "        vertical-align: middle;\n",
       "    }\n",
       "\n",
       "    .dataframe tbody tr th {\n",
       "        vertical-align: top;\n",
       "    }\n",
       "\n",
       "    .dataframe thead th {\n",
       "        text-align: right;\n",
       "    }\n",
       "</style>\n",
       "<table border=\"1\" class=\"dataframe\">\n",
       "  <thead>\n",
       "    <tr style=\"text-align: right;\">\n",
       "      <th></th>\n",
       "      <th>month</th>\n",
       "      <th>store_id</th>\n",
       "      <th>staff_id</th>\n",
       "      <th>adcode</th>\n",
       "      <th>division_id</th>\n",
       "      <th>category_id</th>\n",
       "      <th>prod_type_id</th>\n",
       "      <th>gender_id</th>\n",
       "      <th>sub_division_id</th>\n",
       "      <th>quarter_id</th>\n",
       "      <th>material_id</th>\n",
       "      <th>price_range_id</th>\n",
       "      <th>pricelist</th>\n",
       "      <th>retail_count</th>\n",
       "    </tr>\n",
       "  </thead>\n",
       "  <tbody>\n",
       "    <tr>\n",
       "      <th>0</th>\n",
       "      <td>1</td>\n",
       "      <td>1</td>\n",
       "      <td>164</td>\n",
       "      <td>140100.0</td>\n",
       "      <td>86.0</td>\n",
       "      <td>51.0</td>\n",
       "      <td>145.0</td>\n",
       "      <td>4.0</td>\n",
       "      <td>90.0</td>\n",
       "      <td>5.0</td>\n",
       "      <td>136.0</td>\n",
       "      <td>6.0</td>\n",
       "      <td>279.0</td>\n",
       "      <td>6</td>\n",
       "    </tr>\n",
       "    <tr>\n",
       "      <th>1</th>\n",
       "      <td>1</td>\n",
       "      <td>1</td>\n",
       "      <td>198</td>\n",
       "      <td>140100.0</td>\n",
       "      <td>205.0</td>\n",
       "      <td>109.0</td>\n",
       "      <td>206.0</td>\n",
       "      <td>2518.0</td>\n",
       "      <td>1480.0</td>\n",
       "      <td>5.0</td>\n",
       "      <td>215.0</td>\n",
       "      <td>6.0</td>\n",
       "      <td>209.0</td>\n",
       "      <td>1</td>\n",
       "    </tr>\n",
       "    <tr>\n",
       "      <th>2</th>\n",
       "      <td>1</td>\n",
       "      <td>1</td>\n",
       "      <td>1426</td>\n",
       "      <td>140100.0</td>\n",
       "      <td>2.0</td>\n",
       "      <td>51.0</td>\n",
       "      <td>24.0</td>\n",
       "      <td>4.0</td>\n",
       "      <td>1479.0</td>\n",
       "      <td>749.0</td>\n",
       "      <td>779.0</td>\n",
       "      <td>31.0</td>\n",
       "      <td>399.0</td>\n",
       "      <td>2</td>\n",
       "    </tr>\n",
       "    <tr>\n",
       "      <th>3</th>\n",
       "      <td>1</td>\n",
       "      <td>1</td>\n",
       "      <td>1436</td>\n",
       "      <td>140100.0</td>\n",
       "      <td>2.0</td>\n",
       "      <td>61.0</td>\n",
       "      <td>57.0</td>\n",
       "      <td>4.0</td>\n",
       "      <td>1479.0</td>\n",
       "      <td>749.0</td>\n",
       "      <td>755.0</td>\n",
       "      <td>31.0</td>\n",
       "      <td>359.0</td>\n",
       "      <td>5</td>\n",
       "    </tr>\n",
       "    <tr>\n",
       "      <th>4</th>\n",
       "      <td>1</td>\n",
       "      <td>1</td>\n",
       "      <td>1498</td>\n",
       "      <td>140100.0</td>\n",
       "      <td>86.0</td>\n",
       "      <td>121.0</td>\n",
       "      <td>87.0</td>\n",
       "      <td>29.0</td>\n",
       "      <td>90.0</td>\n",
       "      <td>749.0</td>\n",
       "      <td>799.0</td>\n",
       "      <td>91.0</td>\n",
       "      <td>139.0</td>\n",
       "      <td>1</td>\n",
       "    </tr>\n",
       "  </tbody>\n",
       "</table>\n",
       "</div>"
      ],
      "text/plain": [
       "   month  store_id  staff_id    adcode  division_id  category_id  \\\n",
       "0      1         1       164  140100.0         86.0         51.0   \n",
       "1      1         1       198  140100.0        205.0        109.0   \n",
       "2      1         1      1426  140100.0          2.0         51.0   \n",
       "3      1         1      1436  140100.0          2.0         61.0   \n",
       "4      1         1      1498  140100.0         86.0        121.0   \n",
       "\n",
       "   prod_type_id  gender_id  sub_division_id  quarter_id  material_id  \\\n",
       "0         145.0        4.0             90.0         5.0        136.0   \n",
       "1         206.0     2518.0           1480.0         5.0        215.0   \n",
       "2          24.0        4.0           1479.0       749.0        779.0   \n",
       "3          57.0        4.0           1479.0       749.0        755.0   \n",
       "4          87.0       29.0             90.0       749.0        799.0   \n",
       "\n",
       "   price_range_id  pricelist  retail_count  \n",
       "0             6.0      279.0             6  \n",
       "1             6.0      209.0             1  \n",
       "2            31.0      399.0             2  \n",
       "3            31.0      359.0             5  \n",
       "4            91.0      139.0             1  "
      ]
     },
     "execution_count": 35,
     "metadata": {},
     "output_type": "execute_result"
    }
   ],
   "source": [
    "data_all.head()"
   ]
  },
  {
   "cell_type": "code",
   "execution_count": 36,
   "id": "1c77b27b",
   "metadata": {},
   "outputs": [],
   "source": [
    "#多分类\n",
    "import os\n",
    "import math\n",
    "from datetime import datetime\n",
    "import warnings\n",
    "warnings.filterwarnings(\"ignore\")\n",
    "\n",
    "import pandas.core.algorithms as algos\n",
    "\n",
    "import re\n",
    "import gc\n",
    "from sklearn.metrics import confusion_matrix,classification_report\n",
    "\n",
    "#import xgboost as xgb\n",
    "import lightgbm as lgb\n",
    "#from xgboost.sklearn import XGBRegressor\n",
    "from lightgbm.sklearn import LGBMRegressor\n",
    "\n",
    "from lightgbm import LGBMClassifier\n",
    "from sklearn import metrics\n",
    "from sklearn.metrics import r2_score,mean_absolute_error,roc_curve,accuracy_score\n",
    "from sklearn.model_selection import train_test_split\n",
    "import matplotlib as mlp\n",
    "import matplotlib.pyplot as plt\n",
    "#import seanborn as sns\n",
    "from sklearn.metrics import roc_curve,auc\n",
    "import joblib"
   ]
  },
  {
   "cell_type": "code",
   "execution_count": 44,
   "id": "ad3d86b2",
   "metadata": {},
   "outputs": [],
   "source": [
    "dataset=data_all.copy()\n",
    "dataset=dataset.fillna(0)\n",
    "x_train,x_test,y_train,y_test=train_test_split(dataset[model_features],dataset[label],test_size=0.2,random_state=43)\n"
   ]
  },
  {
   "cell_type": "code",
   "execution_count": 45,
   "id": "4e87d96c",
   "metadata": {},
   "outputs": [],
   "source": [
    "#首先构建基础不同的模型来评估"
   ]
  },
  {
   "cell_type": "code",
   "execution_count": 49,
   "id": "3c09e150",
   "metadata": {},
   "outputs": [
    {
     "name": "stdout",
     "output_type": "stream",
     "text": [
      "Linear Regression:\n",
      "MAPE: 59310498936.73%\n",
      "MSE: 2.54\n",
      "RMSE: 1.59\n",
      "MAE: 1.12\n",
      "\n",
      "Decision Tree Regressor:\n",
      "MAPE: 37470997751.95%\n",
      "MSE: 4.01\n",
      "RMSE: 2.00\n",
      "MAE: 1.35\n",
      "\n",
      "Random Forest Regressor:\n",
      "MAPE: 43635730918.73%\n",
      "MSE: 2.35\n",
      "RMSE: 1.53\n",
      "MAE: 1.10\n",
      "\n",
      "Gradient Boosting Regressor:\n",
      "MAPE: 55759304654.34%\n",
      "MSE: 2.36\n",
      "RMSE: 1.54\n",
      "MAE: 1.08\n",
      "\n",
      "LightGBM:\n",
      "MAPE: 51290390964.68%\n",
      "MSE: 2.23\n",
      "RMSE: 1.49\n",
      "MAE: 1.06\n",
      "\n",
      "XGBoost:\n",
      "MAPE: 55264612053.69%\n",
      "MSE: 2.36\n",
      "RMSE: 1.53\n",
      "MAE: 1.08\n",
      "\n"
     ]
    }
   ],
   "source": [
    "import numpy as np\n",
    "import pandas as pd\n",
    "import lightgbm as lgb\n",
    "import xgboost as xgb\n",
    "from sklearn.model_selection import train_test_split\n",
    "from sklearn.linear_model import LinearRegression\n",
    "from sklearn.tree import DecisionTreeRegressor\n",
    "from sklearn.ensemble import RandomForestRegressor\n",
    "from sklearn.ensemble import GradientBoostingRegressor\n",
    "from sklearn.metrics import mean_absolute_error, mean_squared_error\n",
    "\n",
    "# Define function to compute MAPE\n",
    "def mean_absolute_percentage_error(y_true, y_pred):\n",
    "    y_true, y_pred = np.array(y_true), np.array(y_pred)\n",
    "    return np.mean(np.abs((y_true - y_pred) / (y_true + 1e-10))) * 100\n",
    "\n",
    "# Split dataset into train and test sets\n",
    "x_train, x_test, y_train, y_test = train_test_split(dataset[model_features], dataset[label], test_size=0.2, random_state=43)\n",
    "\n",
    "# Define models\n",
    "models = [\n",
    "    (\"Linear Regression\", LinearRegression(fit_intercept=True, normalize=False, copy_X=True, n_jobs=None)),\n",
    "    (\"Decision Tree Regressor\", DecisionTreeRegressor(criterion='mse', splitter='best', max_depth=None, min_samples_split=2, min_samples_leaf=1, min_weight_fraction_leaf=0.0, max_features=None, random_state=43, max_leaf_nodes=None, min_impurity_decrease=0.0, ccp_alpha=0.0)),\n",
    "    (\"Random Forest Regressor\", RandomForestRegressor(n_estimators=100, criterion='mse', max_depth=None, min_samples_split=2, min_samples_leaf=1, min_weight_fraction_leaf=0.0, max_features='auto', max_leaf_nodes=None, min_impurity_decrease=0.0, ccp_alpha=0.0, bootstrap=True, oob_score=False, n_jobs=None, random_state=43, verbose=0, warm_start=False, max_samples=None)),\n",
    "    (\"Gradient Boosting Regressor\", GradientBoostingRegressor(loss='ls', learning_rate=0.1, n_estimators=100, subsample=1.0, criterion='friedman_mse', min_samples_split=2, min_samples_leaf=1, min_weight_fraction_leaf=0.0, max_depth=3, min_impurity_decrease=0.0, ccp_alpha=0.0, init=None, random_state=43, max_features=None, alpha=0.9, verbose=0, max_leaf_nodes=None, warm_start=False, validation_fraction=0.1, n_iter_no_change=None, tol=0.0001)),\n",
    "    (\"LightGBM\", lgb.LGBMRegressor(boosting_type='gbdt', num_leaves=31, max_depth=-1, learning_rate=0.1, n_estimators=100, subsample_for_bin=200000, objective=None, class_weight=None, min_split_gain=0.0, min_child_weight=0.001, min_child_samples=20, subsample=1.0, subsample_freq=0, colsample_bytree=1.0, reg_alpha=0.0, reg_lambda=0.0, random_state=43, n_jobs=-1, silent=True, importance_type='split')),\n",
    "    (\"XGBoost\", xgb.XGBRegressor(objective='reg:squarederror', colsample_bytree=1, learning_rate=0.1, max_depth=3, alpha=0, n_estimators=100, random_state=43, booster='gbtree', tree_method='auto', subsample=1, reg_lambda=1, min_child_weight=1, gamma=0, scale_pos_weight=1, base_score=0.5, importance_type='gain', n_jobs=-1, verbosity=1))\n",
    "]\n",
    "\n",
    "# Train models and calculate evaluation metrics\n",
    "for model_name, model in models:\n",
    "    model.fit(x_train, y_train)\n",
    "    y_pred = model.predict(x_test)\n",
    "    \n",
    "    mape = mean_absolute_percentage_error(y_test, y_pred)\n",
    "    mse = mean_squared_error(y_test, y_pred)\n",
    "    rmse = np.sqrt(mse)\n",
    "    mae = mean_absolute_error(y_test, y_pred)\n",
    "    \n",
    "    print(f\"{model_name}:\\nMAPE: {mape:.2f}%\\nMSE: {mse:.2f}\\nRMSE: {rmse:.2f}\\nMAE: {mae:.2f}\\n\")\n"
   ]
  },
  {
   "cell_type": "code",
   "execution_count": 50,
   "id": "d79383d2",
   "metadata": {},
   "outputs": [],
   "source": [
    "#open FE\n",
    "import openfe\n",
    "from openfe import openfe, transform"
   ]
  },
  {
   "cell_type": "code",
   "execution_count": 51,
   "id": "2968aefc",
   "metadata": {},
   "outputs": [],
   "source": [
    "ofe = openfe()"
   ]
  },
  {
   "cell_type": "code",
   "execution_count": 53,
   "id": "d8282268",
   "metadata": {},
   "outputs": [
    {
     "name": "stdout",
     "output_type": "stream",
     "text": [
      "The number of candidate features is 1373\n",
      "Start stage I selection.\n"
     ]
    },
    {
     "name": "stderr",
     "output_type": "stream",
     "text": [
      "100%|██████████████████████████████████████████████████████████████████████████████████| 16/16 [00:35<00:00,  2.22s/it]\n"
     ]
    },
    {
     "name": "stdout",
     "output_type": "stream",
     "text": [
      "407 same features have been deleted.\n",
      "Meet early-stopping in successive feature-wise halving.\n"
     ]
    },
    {
     "name": "stderr",
     "output_type": "stream",
     "text": [
      "100%|██████████████████████████████████████████████████████████████████████████████████| 16/16 [02:12<00:00,  8.31s/it]\n"
     ]
    },
    {
     "name": "stdout",
     "output_type": "stream",
     "text": [
      "The number of remaining candidate features is 965\n",
      "Start stage II selection.\n"
     ]
    },
    {
     "name": "stderr",
     "output_type": "stream",
     "text": [
      "100%|██████████████████████████████████████████████████████████████████████████████████| 16/16 [01:42<00:00,  6.40s/it]\n"
     ]
    },
    {
     "name": "stdout",
     "output_type": "stream",
     "text": [
      "Finish data processing.\n"
     ]
    }
   ],
   "source": [
    "features = ofe.fit(data=x_train, label=pd.DataFrame(y_train), n_jobs=4)  # generate new features"
   ]
  },
  {
   "cell_type": "code",
   "execution_count": 54,
   "id": "036e1fab",
   "metadata": {},
   "outputs": [],
   "source": [
    "x_train_OPENFE,x_test_OPENFE = transform(x_train,x_test,features,n_jobs=4) # transform the train and test data according to generated features.\n"
   ]
  },
  {
   "cell_type": "code",
   "execution_count": 57,
   "id": "bef9d0e1",
   "metadata": {},
   "outputs": [],
   "source": [
    "x_test_OPENFE.to_csv(\"x_test_openfe.csv\",index=False)"
   ]
  },
  {
   "cell_type": "code",
   "execution_count": 58,
   "id": "0a08b47d",
   "metadata": {},
   "outputs": [],
   "source": [
    "x_train_OPENFE.to_csv(\"x_train_openfe.csv\",index=False)"
   ]
  },
  {
   "cell_type": "code",
   "execution_count": 60,
   "id": "340e1692",
   "metadata": {},
   "outputs": [
    {
     "data": {
      "text/plain": [
       "(34478, 978)"
      ]
     },
     "execution_count": 60,
     "metadata": {},
     "output_type": "execute_result"
    }
   ],
   "source": [
    "x_train_OPENFE.shape"
   ]
  },
  {
   "cell_type": "code",
   "execution_count": 61,
   "id": "3af16109",
   "metadata": {},
   "outputs": [
    {
     "name": "stdout",
     "output_type": "stream",
     "text": [
      "Linear Regression:%\n",
      "MSE: 30.22\n",
      "RMSE: 5.50\n",
      "MAE: 1.15\n",
      "\n",
      "Decision Tree Regressor:%\n",
      "MSE: 3.97\n",
      "RMSE: 1.99\n",
      "MAE: 1.32\n",
      "\n"
     ]
    },
    {
     "name": "stderr",
     "output_type": "stream",
     "text": [
      "\n",
      "KeyboardInterrupt\n",
      "\n"
     ]
    }
   ],
   "source": [
    "import numpy as np\n",
    "import pandas as pd\n",
    "import lightgbm as lgb\n",
    "import xgboost as xgb\n",
    "from sklearn.model_selection import train_test_split\n",
    "from sklearn.linear_model import LinearRegression\n",
    "from sklearn.tree import DecisionTreeRegressor\n",
    "from sklearn.ensemble import RandomForestRegressor\n",
    "from sklearn.ensemble import GradientBoostingRegressor\n",
    "from sklearn.metrics import mean_absolute_error, mean_squared_error\n",
    "\n",
    "# Define function to compute MAPE\n",
    "def mean_absolute_percentage_error(y_true, y_pred):\n",
    "    y_true, y_pred = np.array(y_true), np.array(y_pred)\n",
    "    return np.mean(np.abs((y_true - y_pred) / (y_true + 1e-10))) * 100\n",
    "\n",
    "# Split dataset into train and test sets\n",
    "#x_train, x_test, y_train, y_test = train_test_split(dataset[model_features], dataset[label], test_size=0.2, random_state=43)\n",
    "x_train=x_train_OPENFE.copy()\n",
    "x_test=x_test_OPENFE.copy()\n",
    "# Define models\n",
    "models = [\n",
    "    (\"Linear Regression\", LinearRegression(fit_intercept=True, normalize=False, copy_X=True, n_jobs=None)),\n",
    "    (\"Decision Tree Regressor\", DecisionTreeRegressor(criterion='mse', splitter='best', max_depth=None, \n",
    "                                                      min_samples_split=2, min_samples_leaf=1, min_weight_fraction_leaf=0.0,\n",
    "                                                      max_features=None, random_state=43, max_leaf_nodes=None, min_impurity_decrease=0.0, ccp_alpha=0.0)),\n",
    "    (\"Random Forest Regressor\", RandomForestRegressor(n_estimators=100, criterion='mse', max_depth=None, \n",
    "                                                      min_samples_split=100, min_samples_leaf=200, min_weight_fraction_leaf=0.0, \n",
    "                                                      max_features='auto', max_leaf_nodes=None, min_impurity_decrease=0.0, ccp_alpha=0.0, bootstrap=True, oob_score=False, n_jobs=None, random_state=43, verbose=0, warm_start=False, max_samples=None)),\n",
    "    (\"Gradient Boosting Regressor\", GradientBoostingRegressor(loss='ls', learning_rate=0.1, n_estimators=100,\n",
    "                                                              subsample=1.0, criterion='friedman_mse', min_samples_split=100,\n",
    "                                                              min_samples_leaf=100, min_weight_fraction_leaf=0.0, max_depth=3, min_impurity_decrease=0.0, ccp_alpha=0.0, init=None, random_state=43, max_features=None, alpha=0.9, verbose=0, max_leaf_nodes=None, warm_start=False, validation_fraction=0.1, n_iter_no_change=None, tol=0.0001)),\n",
    "    (\"LightGBM\", lgb.LGBMRegressor(boosting_type='gbdt', num_leaves=31, max_depth=-1, learning_rate=0.1, \n",
    "                                   n_estimators=100, subsample_for_bin=200000, objective=None, class_weight=None, \n",
    "                                   min_split_gain=0.0, min_child_weight=0.001, min_child_samples=20, subsample=1.0, \n",
    "                                   subsample_freq=0, colsample_bytree=1.0, reg_alpha=0.0, reg_lambda=0.0, random_state=43,\n",
    "                                   n_jobs=-1, silent=True, importance_type='split')),\n",
    "    (\"XGBoost\", xgb.XGBRegressor(objective='reg:squarederror', colsample_bytree=1, learning_rate=0.1,\n",
    "                                 max_depth=3, alpha=0, n_estimators=100, random_state=43, booster='gbtree', tree_method='auto', \n",
    "                                 subsample=1, reg_lambda=1, min_child_weight=1, gamma=0, scale_pos_weight=1,\n",
    "                                 base_score=0.5, importance_type='gain', n_jobs=-1, verbosity=1))\n",
    "]\n",
    "\n",
    "# Train models and calculate evaluation metrics\n",
    "for model_name, model in models:\n",
    "    model.fit(x_train, y_train)\n",
    "    y_pred = model.predict(x_test)\n",
    "    \n",
    "    #mape = mean_absolute_percentage_error(y_test, y_pred)\n",
    "    mse = mean_squared_error(y_test, y_pred)\n",
    "    rmse = np.sqrt(mse)\n",
    "    mae = mean_absolute_error(y_test, y_pred)\n",
    "    \n",
    "    print(f\"{model_name}:%\\nMSE: {mse:.2f}\\nRMSE: {rmse:.2f}\\nMAE: {mae:.2f}\\n\")\n"
   ]
  },
  {
   "cell_type": "code",
   "execution_count": 62,
   "id": "f059f955",
   "metadata": {},
   "outputs": [
    {
     "name": "stderr",
     "output_type": "stream",
     "text": [
      "\n",
      "KeyboardInterrupt\n",
      "\n"
     ]
    }
   ],
   "source": [
    "import numpy as np\n",
    "import pandas as pd\n",
    "import lightgbm as lgb\n",
    "import xgboost as xgb\n",
    "from sklearn.model_selection import train_test_split\n",
    "from sklearn.linear_model import LinearRegression\n",
    "from sklearn.tree import DecisionTreeRegressor\n",
    "from sklearn.ensemble import RandomForestRegressor\n",
    "from sklearn.ensemble import GradientBoostingRegressor\n",
    "from sklearn.metrics import mean_absolute_error, mean_squared_error\n",
    "\n",
    "# Define function to compute MAPE\n",
    "def mean_absolute_percentage_error(y_true, y_pred):\n",
    "    y_true, y_pred = np.array(y_true), np.array(y_pred)\n",
    "    return np.mean(np.abs((y_true - y_pred) / (y_true + 1e-10))) * 100\n",
    "\n",
    "# Split dataset into train and test sets\n",
    "#x_train, x_test, y_train, y_test = train_test_split(dataset[model_features], dataset[label], test_size=0.2, random_state=43)\n",
    "x_train=x_train_OPENFE.copy()\n",
    "x_test=x_test_OPENFE.copy()\n",
    "# Define models\n",
    "models = [\n",
    "    #(\"Linear Regression\", LinearRegression(fit_intercept=True, normalize=False, copy_X=True, n_jobs=None)),\n",
    "    #(\"Decision Tree Regressor\", DecisionTreeRegressor(criterion='mse', splitter='best', max_depth=None, \n",
    "                                                      #min_samples_split=2, min_samples_leaf=1, min_weight_fraction_leaf=0.0,\n",
    "                                                      #max_features=None, random_state=43, max_leaf_nodes=None, min_impurity_decrease=0.0, ccp_alpha=0.0)),\n",
    "    (\"Random Forest Regressor\", RandomForestRegressor(n_estimators=100, criterion='mse', max_depth=None, \n",
    "                                                      min_samples_split=100, min_samples_leaf=200, min_weight_fraction_leaf=0.0, \n",
    "                                                      max_features='auto', max_leaf_nodes=None, min_impurity_decrease=0.0, ccp_alpha=0.0, bootstrap=True, oob_score=False, n_jobs=None, random_state=43, verbose=0, warm_start=False, max_samples=None)),\n",
    "    (\"Gradient Boosting Regressor\", GradientBoostingRegressor(loss='ls', learning_rate=0.1, n_estimators=100,\n",
    "                                                              subsample=1.0, criterion='friedman_mse', min_samples_split=100,\n",
    "                                                              min_samples_leaf=100, min_weight_fraction_leaf=0.0, max_depth=3, min_impurity_decrease=0.0, ccp_alpha=0.0, init=None, random_state=43, max_features=None, alpha=0.9, verbose=0, max_leaf_nodes=None, warm_start=False, validation_fraction=0.1, n_iter_no_change=None, tol=0.0001)),\n",
    "    (\"LightGBM\", lgb.LGBMRegressor(boosting_type='gbdt', num_leaves=31, max_depth=-1, learning_rate=0.1, \n",
    "                                   n_estimators=100, subsample_for_bin=200000, objective=None, class_weight=None, \n",
    "                                   min_split_gain=0.0, min_child_weight=0.001, min_child_samples=20, subsample=1.0, \n",
    "                                   subsample_freq=0, colsample_bytree=1.0, reg_alpha=0.0, reg_lambda=0.0, random_state=43,\n",
    "                                   n_jobs=-1, silent=True, importance_type='split')),\n",
    "    (\"XGBoost\", xgb.XGBRegressor(objective='reg:squarederror', colsample_bytree=1, learning_rate=0.1,\n",
    "                                 max_depth=3, alpha=0, n_estimators=100, random_state=43, booster='gbtree', tree_method='auto', \n",
    "                                 subsample=1, reg_lambda=1, min_child_weight=1, gamma=0, scale_pos_weight=1,\n",
    "                                 base_score=0.5, importance_type='gain', n_jobs=-1, verbosity=1))\n",
    "]\n",
    "\n",
    "# Train models and calculate evaluation metrics\n",
    "for model_name, model in models:\n",
    "    model.fit(x_train, y_train)\n",
    "    y_pred = model.predict(x_test)\n",
    "    \n",
    "    #mape = mean_absolute_percentage_error(y_test, y_pred)\n",
    "    mse = mean_squared_error(y_test, y_pred)\n",
    "    rmse = np.sqrt(mse)\n",
    "    mae = mean_absolute_error(y_test, y_pred)\n",
    "    \n",
    "    print(f\"{model_name}:%\\nMSE: {mse:.2f}\\nRMSE: {rmse:.2f}\\nMAE: {mae:.2f}\\n\")\n"
   ]
  },
  {
   "cell_type": "code",
   "execution_count": 66,
   "id": "56d176d7",
   "metadata": {},
   "outputs": [],
   "source": [
    "model_rf=RandomForestRegressor(n_estimators=10, criterion='mse', max_depth=None, \n",
    "                                                      min_samples_split=100, min_samples_leaf=200, min_weight_fraction_leaf=0.0, \n",
    "                                                      max_features='auto', max_leaf_nodes=None, min_impurity_decrease=0.0, ccp_alpha=0.0, bootstrap=True, oob_score=False, n_jobs=None, random_state=43, verbose=0, warm_start=False, max_samples=None)"
   ]
  },
  {
   "cell_type": "code",
   "execution_count": 67,
   "id": "29f28987",
   "metadata": {},
   "outputs": [
    {
     "data": {
      "text/plain": [
       "RandomForestRegressor(criterion='mse', min_samples_leaf=200,\n",
       "                      min_samples_split=100, n_estimators=10, random_state=43)"
      ]
     },
     "execution_count": 67,
     "metadata": {},
     "output_type": "execute_result"
    }
   ],
   "source": [
    "model_rf.fit(x_train,y_train)"
   ]
  },
  {
   "cell_type": "code",
   "execution_count": 68,
   "id": "aadeaf45",
   "metadata": {},
   "outputs": [
    {
     "name": "stdout",
     "output_type": "stream",
     "text": [
      "Random Forest Regressor:%\n",
      "MSE: 2.19\n",
      "RMSE: 1.48\n",
      "MAE: 1.03\n",
      "\n"
     ]
    }
   ],
   "source": [
    "y_pred = model_rf.predict(x_test)\n",
    "\n",
    "#mape = mean_absolute_percentage_error(y_test, y_pred)\n",
    "mse = mean_squared_error(y_test, y_pred)\n",
    "rmse = np.sqrt(mse)\n",
    "mae = mean_absolute_error(y_test, y_pred)\n",
    "\n",
    "print(f\"{model_name}:%\\nMSE: {mse:.2f}\\nRMSE: {rmse:.2f}\\nMAE: {mae:.2f}\\n\")"
   ]
  },
  {
   "cell_type": "code",
   "execution_count": 71,
   "id": "1fdf1e76",
   "metadata": {},
   "outputs": [
    {
     "name": "stdout",
     "output_type": "stream",
     "text": [
      "Gradient Boosting Regressor:%\n",
      "MSE: 2.29\n",
      "RMSE: 1.51\n",
      "MAE: 1.06\n",
      "\n"
     ]
    }
   ],
   "source": [
    "model_gbdt= GradientBoostingRegressor(loss='ls', learning_rate=0.1, n_estimators=10,\n",
    "                                     subsample=1.0, criterion='friedman_mse', min_samples_split=100,\n",
    "                                      min_samples_leaf=100, min_weight_fraction_leaf=0.0, max_depth=3, \n",
    "                                      min_impurity_decrease=0.0, ccp_alpha=0.0, init=None, random_state=43, max_features=None, alpha=0.9, verbose=0, max_leaf_nodes=None, warm_start=False, validation_fraction=0.1, n_iter_no_change=None, tol=0.0001)\n",
    "model_name= \"Gradient Boosting Regressor\"\n",
    "model_gbdt.fit(x_train,y_train)\n",
    "y_pred = model_gbdt.predict(x_test)\n",
    "\n",
    "#mape = mean_absolute_percentage_error(y_test, y_pred)\n",
    "mse = mean_squared_error(y_test, y_pred)\n",
    "rmse = np.sqrt(mse)\n",
    "mae = mean_absolute_error(y_test, y_pred)\n",
    "\n",
    "print(f\"{model_name}:%\\nMSE: {mse:.2f}\\nRMSE: {rmse:.2f}\\nMAE: {mae:.2f}\\n\")"
   ]
  },
  {
   "cell_type": "code",
   "execution_count": 74,
   "id": "af231f62",
   "metadata": {},
   "outputs": [
    {
     "name": "stdout",
     "output_type": "stream",
     "text": [
      "LightGBM:%\n",
      "MSE: 2.05\n",
      "RMSE: 1.43\n",
      "MAE: 1.01\n",
      "\n",
      "XGBoost:%\n",
      "MSE: 2.24\n",
      "RMSE: 1.50\n",
      "MAE: 1.04\n",
      "\n"
     ]
    }
   ],
   "source": [
    "import numpy as np\n",
    "import pandas as pd\n",
    "import lightgbm as lgb\n",
    "import xgboost as xgb\n",
    "from sklearn.model_selection import train_test_split\n",
    "from sklearn.linear_model import LinearRegression\n",
    "from sklearn.tree import DecisionTreeRegressor\n",
    "from sklearn.ensemble import RandomForestRegressor\n",
    "from sklearn.ensemble import GradientBoostingRegressor\n",
    "from sklearn.metrics import mean_absolute_error, mean_squared_error\n",
    "\n",
    "# Define function to compute MAPE\n",
    "def mean_absolute_percentage_error(y_true, y_pred):\n",
    "    y_true, y_pred = np.array(y_true), np.array(y_pred)\n",
    "    return np.mean(np.abs((y_true - y_pred) / (y_true + 1e-10))) * 100\n",
    "\n",
    "# Split dataset into train and test sets\n",
    "#x_train, x_test, y_train, y_test = train_test_split(dataset[model_features], dataset[label], test_size=0.2, random_state=43)\n",
    "x_train=x_train_OPENFE.copy()\n",
    "x_test=x_test_OPENFE.copy()\n",
    "# Define models\n",
    "models = [\n",
    "    #(\"Linear Regression\", LinearRegression(fit_intercept=True, normalize=False, copy_X=True, n_jobs=None)),\n",
    "    #(\"Decision Tree Regressor\", DecisionTreeRegressor(criterion='mse', splitter='best', max_depth=None, \n",
    "                                                      #min_samples_split=2, min_samples_leaf=1, min_weight_fraction_leaf=0.0,\n",
    "                                                      #max_features=None, random_state=43, max_leaf_nodes=None, min_impurity_decrease=0.0, ccp_alpha=0.0)),\n",
    "#     (\"Random Forest Regressor\", RandomForestRegressor(n_estimators=100, criterion='mse', max_depth=None, \n",
    "#                                                       min_samples_split=100, min_samples_leaf=200, min_weight_fraction_leaf=0.0, \n",
    "#                                                       max_features='auto', max_leaf_nodes=None, min_impurity_decrease=0.0, ccp_alpha=0.0, bootstrap=True, oob_score=False, n_jobs=None, random_state=43, verbose=0, warm_start=False, max_samples=None)),\n",
    "#     (\"Gradient Boosting Regressor\", GradientBoostingRegressor(loss='ls', learning_rate=0.1, n_estimators=100,\n",
    "#                                                               subsample=1.0, criterion='friedman_mse', min_samples_split=100,\n",
    "#                                                               min_samples_leaf=100, min_weight_fraction_leaf=0.0, max_depth=3, min_impurity_decrease=0.0, ccp_alpha=0.0, init=None, random_state=43, max_features=None, alpha=0.9, verbose=0, max_leaf_nodes=None, warm_start=False, validation_fraction=0.1, n_iter_no_change=None, tol=0.0001)),\n",
    "    (\"LightGBM\", lgb.LGBMRegressor(boosting_type='gbdt', num_leaves=31, max_depth=-1, learning_rate=0.1, \n",
    "                                   n_estimators=100, subsample_for_bin=200, objective=None, class_weight=None, \n",
    "                                   min_split_gain=0.0, min_child_weight=0.001, min_child_samples=20, subsample=1.0, \n",
    "                                   subsample_freq=0, colsample_bytree=1.0, reg_alpha=0.1, reg_lambda=0.1, random_state=43,\n",
    "                                   n_jobs=-1, silent=True, importance_type='split')),\n",
    "    (\"XGBoost\", xgb.XGBRegressor(objective='reg:squarederror', colsample_bytree=1, learning_rate=0.1,enable_categorical=True,\n",
    "                                 max_depth=3, alpha=0, n_estimators=100, random_state=43, booster='gbtree', tree_method='hist', \n",
    "                                 subsample=1, reg_lambda=1, min_child_weight=1, gamma=0, scale_pos_weight=1,\n",
    "                                 base_score=0.5, importance_type='gain', n_jobs=-1, verbosity=1))\n",
    "]\n",
    "\n",
    "# Train models and calculate evaluation metrics\n",
    "for model_name, model in models:\n",
    "    model.fit(x_train, y_train)\n",
    "    y_pred = model.predict(x_test)\n",
    "    \n",
    "    #mape = mean_absolute_percentage_error(y_test, y_pred)\n",
    "    mse = mean_squared_error(y_test, y_pred)\n",
    "    rmse = np.sqrt(mse)\n",
    "    mae = mean_absolute_error(y_test, y_pred)\n",
    "    \n",
    "    print(f\"{model_name}:%\\nMSE: {mse:.2f}\\nRMSE: {rmse:.2f}\\nMAE: {mae:.2f}\\n\")\n"
   ]
  },
  {
   "cell_type": "code",
   "execution_count": 119,
   "id": "f7ec2334",
   "metadata": {},
   "outputs": [],
   "source": [
    "#对特征进一步降低维度后观察：\n",
    "#通过lasso筛选\n",
    "\n",
    "import copy  #深拷贝的时候用\n",
    "import _pickle as cPickle\n",
    "import gc #释放内存使用\n",
    "from tqdm import tqdm,tqdm_notebook  #Tqdm 是一个快速，可扩展的Python进度条\n",
    "import datetime #处理时间数据\n",
    "import os\n",
    " \n",
    "from sklearn.preprocessing import OneHotEncoder\n",
    "from sklearn.linear_model import Lasso\n",
    "from sklearn.metrics import r2_score,mean_squared_error,roc_auc_score,log_loss\n",
    "from sklearn.model_selection import KFold\n",
    "from sklearn.preprocessing import StandardScaler\n",
    " \n",
    "import matplotlib.pyplot as plt\n",
    "from matplotlib.pyplot import MultipleLocator, FormatStrFormatter\n",
    "plt.rcParams['font.sans-serif']=['SimHei'] #用来正常显示中文标签\n",
    "plt.rcParams['axes.unicode_minus']=False #用来正常显示负号\n",
    "import seaborn as sns\n",
    "%matplotlib inline\n",
    "import warnings\n",
    "warnings.simplefilter(action='ignore', category=FutureWarning)\n",
    "warnings.filterwarnings(\"ignore\")\n",
    "pd.set_option('display.max_columns',100)\n",
    "import time\n",
    "from tqdm import tqdm\n",
    "\n",
    "def select_feas_lasso(trainX,trainy,metric_name='rmse',kfNum=2):\n",
    "    '''\n",
    "        【功能说明】 \n",
    "        【参数】trainX:DataFrame,训练集的特征部分，需要先进行标准化，one-hot编码需要保留参照类别\n",
    "               trainy:Series，训练集的标签列\n",
    "               metric_name:str，评估指标，默认'rmse',可选'logloss','auc'\n",
    "               kfNum:int,>=2,默认2，交叉验证轮数\n",
    "        【返回】字典，包含参数array，评估指标均值、标准差，保留特征数均值、标准差\n",
    "        【举例】scaler = StandardScaler()  # 标准化 z = (x - u) / s\n",
    "               X_train_std = pd.DataFrame(scaler.fit_transform(X_train))\n",
    "               res=select_feas_lasso(trainX=X_train_std,trainy=y_train,metric_name='rmse',kfNum=2)\n",
    "               lasso_alphas=res['lasso_alphas']\n",
    "               valid_scores=res['valid_scores']\n",
    "               keep_var_nums=res['keep_var_nums']\n",
    "        【版本】V1.0\n",
    "    '''\n",
    "\n",
    "    s=time.time()\n",
    "    print('\\n********lasso_select_feas...start')\n",
    "    print('评估指标：',metric_name)\n",
    "    print('交叉验证轮数：',kfNum)\n",
    "    print('训练集形状：',trainX.shape,type(trainX))\n",
    " \n",
    "    #对于#0.001-100，使用logspace\n",
    "    #lasso_alphas1 = np.logspace(start=-3, stop=2, num=50, base=10) #0.001-100\n",
    "    #对于比较大的lambda，使用整数步长\n",
    "    lasso_alphas2 = np.arange(start=0.,stop=0.3,step=0.01)\n",
    "    #lasso_alphas= np.concatenate((lasso_alphas1, lasso_alphas2))\n",
    "    lasso_alphas=lasso_alphas2\n",
    "    print('待计算正则化参数数量：',len(lasso_alphas))\n",
    "    print('待计算正则化参数最小值：',np.min(lasso_alphas))   \n",
    "    print('待计算正则化参数最大值：',np.max(lasso_alphas))   \n",
    " \n",
    "    valid_scores = [] #存储每个正则化参数下的评估指标均值如rmse\n",
    "    keep_var_nums = [] #存储每个正则化参数下保留的特征数量均值\n",
    "    valid_scores_std = [] #标准差\n",
    "    keep_var_nums_std = []  #标准差\n",
    "    for  alpha in tqdm(lasso_alphas):  \n",
    "        clf = Lasso(max_iter=1000,random_state=2020,alpha=alpha)\n",
    "        kf=KFold(n_splits=kfNum, shuffle=True, random_state=2020)\n",
    "        valid_score=[]  #存储每轮交叉验证的评估指标如rmse\n",
    "        keep_var_num=[] #存储每轮交叉验证保留特征数量\n",
    "        for i,(trn_index,val_index) in enumerate(kf.split(trainX,trainy)):  #i从0开始，可以显示第几轮了\n",
    "            trn_df=trainX.iloc[trn_index]\n",
    "            val_df=trainX.iloc[val_index]            \n",
    "            trn_y=trainy.iloc[trn_index]\n",
    "            val_y=trainy.iloc[val_index]\n",
    " \n",
    "            clf.fit(X=trn_df, y=trn_y)\n",
    "            #利用本轮模型预测本轮验证集  \n",
    "            valid_pred=clf.predict(val_df)\n",
    "            #-------计算本轮评估指标--------#\n",
    "            if metric_name == 'rmse':\n",
    "                valid_score_this=mean_squared_error(val_y,valid_pred,squared=True)\n",
    "            elif metric_name == 'logloss':\n",
    "                valid_score_this=log_loss(y_true=val_y,y_pred=valid_pred)\n",
    "            elif metric_name == 'auc':\n",
    "                valid_score_this=roc_auc_score(y_true=val_y,y_score=valid_pred)\n",
    "            else:\n",
    "                print('亲，没这评估指标')\n",
    "                return\n",
    "        \n",
    "            valid_score.append(valid_score_this)  #列表append后直接替换原对象，所以不用再赋值\n",
    "            # print(valid_score)\n",
    "            keep_var_num=sum(clf.coef_ != 0) #统计系数不为0的特征数量（不含截距）\n",
    "            # print(keep_var_num)\n",
    "        valid_scores.append(np.mean(valid_score)) #metric取均值，存入\n",
    "        keep_var_nums.append(np.mean(keep_var_num)) #保留特征数量取均值，存入\n",
    "        valid_scores_std.append(np.std(valid_score)) #metric取标准差，存入\n",
    "        keep_var_nums_std.append(np.std(keep_var_num)) #保留特征数量取均值取标准差，存入\n",
    "          \n",
    "    res={'lasso_alphas':lasso_alphas,\n",
    "         'valid_scores':valid_scores,'valid_scores_std':valid_scores_std,\n",
    "         'keep_var_nums':keep_var_nums,'keep_var_nums_std':keep_var_nums_std}\n",
    "    \n",
    "    return res\n"
   ]
  },
  {
   "cell_type": "code",
   "execution_count": 129,
   "id": "be2e030a",
   "metadata": {},
   "outputs": [
    {
     "name": "stdout",
     "output_type": "stream",
     "text": [
      "\n",
      "********lasso_select_feas...start\n",
      "评估指标： rmse\n",
      "交叉验证轮数： 3\n",
      "训练集形状： (3000, 943) <class 'pandas.core.frame.DataFrame'>\n",
      "待计算正则化参数数量： 30\n",
      "待计算正则化参数最小值： 0.0\n",
      "待计算正则化参数最大值： 0.29\n"
     ]
    },
    {
     "name": "stderr",
     "output_type": "stream",
     "text": [
      "100%|██████████████████████████████████████████████████████████████████████████████████| 30/30 [00:22<00:00,  1.30it/s]\n"
     ]
    }
   ],
   "source": [
    "# import math\n",
    "# tmp=dataset.copy()\n",
    "# for column in list(tmp.columns[tmp.isnull().sum() > 0]):\n",
    "#     mean_val = tmp[column].mean()\n",
    "#     if math.isnan(x):\n",
    "#          tmp[column].fillna(0,inplace=True)\n",
    "#     else:\n",
    "#         tmp[column].fillna(mean_val, inplace=True)\n",
    "float_cols = x_train.select_dtypes(include=['float']).columns.tolist()\n",
    "int_cols = x_train.select_dtypes(include=['int']).columns.tolist()\n",
    "float_int_cols = x_train.select_dtypes(include=['float', 'int']).columns.tolist()\n",
    "scaler = StandardScaler()  # 标准化 z = (x - u) / s\n",
    "x_train_std = pd.DataFrame(scaler.fit_transform(x_train[float_int_cols]))\n",
    "y_train_std=pd.DataFrame(scaler.fit_transform(pd.DataFrame(y_train)))\n",
    "\n",
    "#x_train,x_test,y_train,y_test=train_test_split(tmp[model_features],tmp[\"label\"],test_size=0.2,random_state=43)\n",
    "res=select_feas_lasso(trainX=x_train_std.iloc[:3000,:],trainy=y_train[:3000],metric_name='rmse',kfNum=3)"
   ]
  },
  {
   "cell_type": "code",
   "execution_count": 143,
   "id": "76620421",
   "metadata": {},
   "outputs": [
    {
     "data": {
      "image/png": "[encoded data removed]",
      "text/plain": [
       "<Figure size 1296x576 with 2 Axes>"
      ]
     },
     "metadata": {
      "needs_background": "light"
     },
     "output_type": "display_data"
    }
   ],
   "source": [
    "lasso_alphas=res['lasso_alphas']\n",
    "valid_scores=res['valid_scores']\n",
    "keep_var_nums=res['keep_var_nums']\n",
    "mertic_name='RMSE'\n",
    "s=3\n",
    "e=10\n",
    "fig  = plt.figure(figsize=(18, 8))\n",
    "ax1=fig.add_subplot(111)\n",
    "ax1.plot(lasso_alphas[s:e],keep_var_nums[s:e], \"b-o\",label='特征数量') #画出折线并且添加实心圆点\n",
    "ax1.set_ylabel('特征数量',fontsize=20)\n",
    "ax1.grid(True) #显示网格线\n",
    "xmajorLocator  = MultipleLocator(0.01)  # x轴刻度间隔 100\n",
    "ymajorLocator  = MultipleLocator(1)    # y轴刻度间隔 1\n",
    "ax1.yaxis.set_major_locator(ymajorLocator) \n",
    "ax1.xaxis.set_major_locator(xmajorLocator) \n",
    "plt.xlabel('正则化参数',fontsize=18) #添加x轴名称\n",
    " \n",
    "ax2 = ax1.twinx()\n",
    "ax2.plot(lasso_alphas[s:e],valid_scores[s:e], \"r-D\",label=mertic_name)  #画出折线并且添加实心菱形\n",
    "ax2.set_ylabel(mertic_name,fontsize=20)\n",
    " \n",
    " \n",
    "ax1.legend(loc='center left',fontsize=15) #添加图例\n",
    "ax2.legend(loc='center right',fontsize=15)\n",
    " \n",
    " \n",
    "plt.title('lasso',fontsize=30) \n",
    "plt.show()"
   ]
  },
  {
   "cell_type": "code",
   "execution_count": 149,
   "id": "aaa94ad4",
   "metadata": {},
   "outputs": [],
   "source": [
    "#根据上图，取最佳参数lasso_alphas[6]，对应0.06，非0特征大约17个\n",
    "alph=lasso_alphas[6]\n",
    "best_clf = Lasso(max_iter=1000,random_state=2020,alpha=alph)\n",
    "best_clf.fit(X=x_train_std.iloc[:3000,:],y=y_train[:3000])\n",
    "coef=pd.concat([pd.Series(float_int_cols ),pd.Series(list(best_clf.coef_))],axis=1)\\\n",
    ".rename(columns={0:\"feature\",1:\"coef\"}).sort_values(by=\"coef\",ascending=False)"
   ]
  },
  {
   "cell_type": "code",
   "execution_count": 153,
   "id": "77833b81",
   "metadata": {},
   "outputs": [
    {
     "name": "stdout",
     "output_type": "stream",
     "text": [
      "lasso 特征选择最佳指标\n"
     ]
    },
    {
     "data": {
      "text/html": [
       "<div>\n",
       "<style scoped>\n",
       "    .dataframe tbody tr th:only-of-type {\n",
       "        vertical-align: middle;\n",
       "    }\n",
       "\n",
       "    .dataframe tbody tr th {\n",
       "        vertical-align: top;\n",
       "    }\n",
       "\n",
       "    .dataframe thead th {\n",
       "        text-align: right;\n",
       "    }\n",
       "</style>\n",
       "<table border=\"1\" class=\"dataframe\">\n",
       "  <thead>\n",
       "    <tr style=\"text-align: right;\">\n",
       "      <th></th>\n",
       "      <th>feature</th>\n",
       "      <th>coef</th>\n",
       "    </tr>\n",
       "  </thead>\n",
       "  <tbody>\n",
       "    <tr>\n",
       "      <th>13</th>\n",
       "      <td>autoFE_f_0</td>\n",
       "      <td>0.431213</td>\n",
       "    </tr>\n",
       "    <tr>\n",
       "      <th>113</th>\n",
       "      <td>autoFE_f_108</td>\n",
       "      <td>0.107850</td>\n",
       "    </tr>\n",
       "    <tr>\n",
       "      <th>14</th>\n",
       "      <td>autoFE_f_1</td>\n",
       "      <td>0.038846</td>\n",
       "    </tr>\n",
       "    <tr>\n",
       "      <th>19</th>\n",
       "      <td>autoFE_f_6</td>\n",
       "      <td>0.037974</td>\n",
       "    </tr>\n",
       "    <tr>\n",
       "      <th>676</th>\n",
       "      <td>autoFE_f_691</td>\n",
       "      <td>0.019834</td>\n",
       "    </tr>\n",
       "    <tr>\n",
       "      <th>563</th>\n",
       "      <td>autoFE_f_577</td>\n",
       "      <td>0.009100</td>\n",
       "    </tr>\n",
       "    <tr>\n",
       "      <th>18</th>\n",
       "      <td>autoFE_f_5</td>\n",
       "      <td>0.006715</td>\n",
       "    </tr>\n",
       "    <tr>\n",
       "      <th>95</th>\n",
       "      <td>autoFE_f_89</td>\n",
       "      <td>0.006087</td>\n",
       "    </tr>\n",
       "    <tr>\n",
       "      <th>72</th>\n",
       "      <td>autoFE_f_63</td>\n",
       "      <td>0.004628</td>\n",
       "    </tr>\n",
       "    <tr>\n",
       "      <th>610</th>\n",
       "      <td>autoFE_f_624</td>\n",
       "      <td>0.002853</td>\n",
       "    </tr>\n",
       "    <tr>\n",
       "      <th>468</th>\n",
       "      <td>autoFE_f_482</td>\n",
       "      <td>-0.002788</td>\n",
       "    </tr>\n",
       "    <tr>\n",
       "      <th>756</th>\n",
       "      <td>autoFE_f_773</td>\n",
       "      <td>-0.003438</td>\n",
       "    </tr>\n",
       "    <tr>\n",
       "      <th>655</th>\n",
       "      <td>autoFE_f_670</td>\n",
       "      <td>-0.007997</td>\n",
       "    </tr>\n",
       "    <tr>\n",
       "      <th>484</th>\n",
       "      <td>autoFE_f_498</td>\n",
       "      <td>-0.014481</td>\n",
       "    </tr>\n",
       "    <tr>\n",
       "      <th>29</th>\n",
       "      <td>autoFE_f_16</td>\n",
       "      <td>-0.023225</td>\n",
       "    </tr>\n",
       "    <tr>\n",
       "      <th>20</th>\n",
       "      <td>autoFE_f_7</td>\n",
       "      <td>-0.049256</td>\n",
       "    </tr>\n",
       "  </tbody>\n",
       "</table>\n",
       "</div>"
      ],
      "text/plain": [
       "          feature      coef\n",
       "13     autoFE_f_0  0.431213\n",
       "113  autoFE_f_108  0.107850\n",
       "14     autoFE_f_1  0.038846\n",
       "19     autoFE_f_6  0.037974\n",
       "676  autoFE_f_691  0.019834\n",
       "563  autoFE_f_577  0.009100\n",
       "18     autoFE_f_5  0.006715\n",
       "95    autoFE_f_89  0.006087\n",
       "72    autoFE_f_63  0.004628\n",
       "610  autoFE_f_624  0.002853\n",
       "468  autoFE_f_482 -0.002788\n",
       "756  autoFE_f_773 -0.003438\n",
       "655  autoFE_f_670 -0.007997\n",
       "484  autoFE_f_498 -0.014481\n",
       "29    autoFE_f_16 -0.023225\n",
       "20     autoFE_f_7 -0.049256"
      ]
     },
     "execution_count": 153,
     "metadata": {},
     "output_type": "execute_result"
    }
   ],
   "source": [
    "lasso_select_feature=coef[coef[\"coef\"]!=0]\n",
    "print(\"lasso 特征选择最佳指标\")\n",
    "coef[coef[\"coef\"]!=0]"
   ]
  },
  {
   "cell_type": "code",
   "execution_count": 156,
   "id": "dfe42ee3",
   "metadata": {},
   "outputs": [],
   "source": [
    "lasso_s_f=lasso_select_feature[\"feature\"].to_list()"
   ]
  },
  {
   "cell_type": "code",
   "execution_count": 157,
   "id": "317b1193",
   "metadata": {},
   "outputs": [],
   "source": [
    "#重新构建特征，训练模型：\n",
    "cat_feature=[i for i in x_train.columns if i not in float_int_cols] \n",
    "final_model_features=lasso_s_f+cat_feature"
   ]
  },
  {
   "cell_type": "code",
   "execution_count": 160,
   "id": "9d22d5ed",
   "metadata": {},
   "outputs": [
    {
     "data": {
      "text/plain": [
       "51"
      ]
     },
     "execution_count": 160,
     "metadata": {},
     "output_type": "execute_result"
    }
   ],
   "source": [
    "len(final_model_features)"
   ]
  },
  {
   "cell_type": "code",
   "execution_count": null,
   "id": "bfa04841",
   "metadata": {},
   "outputs": [],
   "source": [
    "###构建最终模型："
   ]
  },
  {
   "cell_type": "code",
   "execution_count": 161,
   "id": "f83dc587",
   "metadata": {},
   "outputs": [],
   "source": [
    "x_train_f=x_train[final_model_features]\n",
    "x_test_f=x_test[final_model_features]"
   ]
  },
  {
   "cell_type": "code",
   "execution_count": 164,
   "id": "4c0960dc",
   "metadata": {},
   "outputs": [
    {
     "name": "stdout",
     "output_type": "stream",
     "text": [
      "Linear Regression:%\n",
      "MSE: 2.29\n",
      "RMSE: 1.51\n",
      "MAE: 1.05\n",
      "\n",
      "Decision Tree Regressor:%\n",
      "MSE: 3.94\n",
      "RMSE: 1.99\n",
      "MAE: 1.32\n",
      "\n",
      "Random Forest Regressor:%\n",
      "MSE: 2.20\n",
      "RMSE: 1.48\n",
      "MAE: 1.03\n",
      "\n",
      "Gradient Boosting Regressor:%\n",
      "MSE: 2.29\n",
      "RMSE: 1.51\n",
      "MAE: 1.06\n",
      "\n",
      "LightGBM:%\n",
      "MSE: 2.12\n",
      "RMSE: 1.46\n",
      "MAE: 1.02\n",
      "\n",
      "XGBoost:%\n",
      "MSE: 2.26\n",
      "RMSE: 1.50\n",
      "MAE: 1.05\n",
      "\n"
     ]
    }
   ],
   "source": [
    "import numpy as np\n",
    "import pandas as pd\n",
    "import lightgbm as lgb\n",
    "import xgboost as xgb\n",
    "from sklearn.model_selection import train_test_split\n",
    "from sklearn.linear_model import LinearRegression\n",
    "from sklearn.tree import DecisionTreeRegressor\n",
    "from sklearn.ensemble import RandomForestRegressor\n",
    "from sklearn.ensemble import GradientBoostingRegressor\n",
    "from sklearn.metrics import mean_absolute_error, mean_squared_error\n",
    "\n",
    "# Define function to compute MAPE\n",
    "def mean_absolute_percentage_error(y_true, y_pred):\n",
    "    y_true, y_pred = np.array(y_true), np.array(y_pred)\n",
    "    return np.mean(np.abs((y_true - y_pred) / (y_true + 1e-10))) * 100\n",
    "\n",
    "# Split dataset into train and test sets\n",
    "#x_train, x_test, y_train, y_test = train_test_split(dataset[model_features], dataset[label], test_size=0.2, random_state=43)\n",
    "x_train=x_train_OPENFE.copy()\n",
    "x_test=x_test_OPENFE.copy()\n",
    "# Define models\n",
    "models = [\n",
    "    (\"Linear Regression\", LinearRegression(fit_intercept=True, normalize=False, copy_X=True, n_jobs=None)),\n",
    "    (\"Decision Tree Regressor\", DecisionTreeRegressor(criterion='mse', splitter='best', max_depth=None, \n",
    "                                                      min_samples_split=2, min_samples_leaf=1, min_weight_fraction_leaf=0.0,\n",
    "                                                      max_features=None, random_state=43, max_leaf_nodes=None, min_impurity_decrease=0.0, ccp_alpha=0.0)),\n",
    "    (\"Random Forest Regressor\", RandomForestRegressor(n_estimators=10, criterion='mse', max_depth=None, \n",
    "                                                      min_samples_split=100, min_samples_leaf=200, min_weight_fraction_leaf=0.0, \n",
    "                                                      max_features='auto', max_leaf_nodes=None, min_impurity_decrease=0.0, ccp_alpha=0.0, bootstrap=True, oob_score=False, n_jobs=None, random_state=43, verbose=0, warm_start=False, max_samples=None)),\n",
    "    (\"Gradient Boosting Regressor\", GradientBoostingRegressor(loss='ls', learning_rate=0.1, n_estimators=10,\n",
    "                                     subsample=1.0, criterion='friedman_mse', min_samples_split=100,\n",
    "                                      min_samples_leaf=100, min_weight_fraction_leaf=0.0, max_depth=3, \n",
    "                                      min_impurity_decrease=0.0, ccp_alpha=0.0, init=None, random_state=43, max_features=None, alpha=0.9, verbose=0, max_leaf_nodes=None, warm_start=False, validation_fraction=0.1, n_iter_no_change=None, tol=0.0001)),\n",
    "    (\"LightGBM\", lgb.LGBMRegressor(boosting_type='gbdt', num_leaves=31, max_depth=-1, learning_rate=0.1, \n",
    "                                   n_estimators=100, subsample_for_bin=200, objective=None, class_weight=None, \n",
    "                                   min_split_gain=0.0, min_child_weight=0.001, min_child_samples=20, subsample=1.0, \n",
    "                                   subsample_freq=0, colsample_bytree=1.0, reg_alpha=0.1, reg_lambda=0.1, random_state=43,\n",
    "                                   n_jobs=-1, silent=True, importance_type='split')),\n",
    "    (\"XGBoost\", xgb.XGBRegressor(objective='reg:squarederror', colsample_bytree=1, learning_rate=0.1,enable_categorical=True,\n",
    "                                 max_depth=3, alpha=0, n_estimators=100, random_state=43, booster='gbtree', tree_method='hist', \n",
    "                                 subsample=1, reg_lambda=1, min_child_weight=1, gamma=0, scale_pos_weight=1,\n",
    "                                 base_score=0.5, importance_type='gain', n_jobs=-1, verbosity=1))\n",
    "]\n",
    "\n",
    "# Train models and calculate evaluation metrics\n",
    "for model_name, model in models:\n",
    "    model.fit(x_train_f, y_train)\n",
    "    y_pred = model.predict(x_test_f)\n",
    "    \n",
    "    #mape = mean_absolute_percentage_error(y_test, y_pred)\n",
    "    mse = mean_squared_error(y_test, y_pred)\n",
    "    rmse = np.sqrt(mse)\n",
    "    mae = mean_absolute_error(y_test, y_pred)\n",
    "    \n",
    "    print(f\"{model_name}:%\\nMSE: {mse:.2f}\\nRMSE: {rmse:.2f}\\nMAE: {mae:.2f}\\n\")\n"
   ]
  },
  {
   "cell_type": "code",
   "execution_count": null,
   "id": "29772dff",
   "metadata": {},
   "outputs": [],
   "source": []
  }
 ],
 "metadata": {
  "kernelspec": {
   "display_name": "Python 3 (ipykernel)",
   "language": "python",
   "name": "python3"
  },
  "language_info": {
   "codemirror_mode": {
    "name": "ipython",
    "version": 3
   },
   "file_extension": ".py",
   "mimetype": "text/x-python",
   "name": "python",
   "nbconvert_exporter": "python",
   "pygments_lexer": "ipython3",
   "version": "3.9.12"
  }
 },
 "nbformat": 4,
 "nbformat_minor": 5
}
